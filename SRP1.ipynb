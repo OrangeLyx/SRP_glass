{
 "cells": [
  {
   "cell_type": "code",
   "execution_count": 1,
   "id": "66a8321f",
   "metadata": {},
   "outputs": [],
   "source": [
    "import pandas as pd\n",
    "import numpy as np"
   ]
  },
  {
   "cell_type": "code",
   "execution_count": 2,
   "id": "9985a977",
   "metadata": {},
   "outputs": [],
   "source": [
    "path=\"D:/SRP/raw_data.xlsx\"\n",
    "raw_data=pd.read_excel(path,header=1)"
   ]
  },
  {
   "cell_type": "code",
   "execution_count": 3,
   "id": "d1f8cb9f",
   "metadata": {},
   "outputs": [
    {
     "name": "stdout",
     "output_type": "stream",
     "text": [
      "<class 'pandas.core.frame.DataFrame'>\n",
      "RangeIndex: 64481 entries, 0 to 64480\n",
      "Data columns (total 35 columns):\n",
      " #   Column   Non-Null Count  Dtype  \n",
      "---  ------   --------------  -----  \n",
      " 0   DENSITY  64481 non-null  float64\n",
      " 1   SIO2     64481 non-null  float64\n",
      " 2   AL2O3    64481 non-null  float64\n",
      " 3   B2O3     64481 non-null  float64\n",
      " 4   CAO      64481 non-null  float64\n",
      " 5   K2O      64481 non-null  float64\n",
      " 6   NA2O     64481 non-null  float64\n",
      " 7   PBO      64481 non-null  float64\n",
      " 8   Li2O     64481 non-null  float64\n",
      " 9   MgO      64481 non-null  float64\n",
      " 10  SRO      64481 non-null  float64\n",
      " 11  BAO      64481 non-null  float64\n",
      " 12  ZNO      64481 non-null  int64  \n",
      " 13  P2O5     64481 non-null  float64\n",
      " 14  GEO2     64481 non-null  float64\n",
      " 15  ZRO2     64481 non-null  float64\n",
      " 16  TIO2     64481 non-null  float64\n",
      " 17  TEO2     64481 non-null  int64  \n",
      " 18  FemOn    64481 non-null  float64\n",
      " 19  AsmOn    64481 non-null  int64  \n",
      " 20  Bi2O3    64481 non-null  float64\n",
      " 21  RF       64481 non-null  int64  \n",
      " 22  RF2      64481 non-null  int64  \n",
      " 23  RF3      64481 non-null  int64  \n",
      " 24  RF4      64481 non-null  int64  \n",
      " 25  RF5      64481 non-null  int64  \n",
      " 26  RHal     64481 non-null  int64  \n",
      " 27  RHal2    64481 non-null  int64  \n",
      " 28  RHal3    64481 non-null  int64  \n",
      " 29  RHal4    64481 non-null  int64  \n",
      " 30  RHal5    64481 non-null  int64  \n",
      " 31  SbmOn    64481 non-null  float64\n",
      " 32  VmOn     64481 non-null  int64  \n",
      " 33  WO3      64481 non-null  float64\n",
      " 34  所有组分总和   64481 non-null  float64\n",
      "dtypes: float64(21), int64(14)\n",
      "memory usage: 17.2 MB\n"
     ]
    }
   ],
   "source": [
    "raw_data.info()\n",
    "col=len(raw_data.columns)\n",
    "density=raw_data['DENSITY']\n",
    "components=raw_data.iloc[:,1:(col-1)]"
   ]
  },
  {
   "cell_type": "code",
   "execution_count": 4,
   "id": "0783fe4d",
   "metadata": {},
   "outputs": [],
   "source": [
    "# 划分训练集和测试集\n",
    "from sklearn.model_selection import train_test_split\n",
    "X_train,X_test,y_train,y_test=train_test_split(components,density,test_size=0.2,random_state=123)"
   ]
  },
  {
   "cell_type": "code",
   "execution_count": 5,
   "id": "e8b725fa",
   "metadata": {},
   "outputs": [
    {
     "name": "stdout",
     "output_type": "stream",
     "text": [
      "[2.41000009 5.35599995 2.44799995 ... 2.46000004 2.54799998 2.71300006]\n"
     ]
    }
   ],
   "source": [
    "# K临近回归\n",
    "from sklearn.neighbors import KNeighborsRegressor\n",
    "model=KNeighborsRegressor(n_neighbors=2)\n",
    "model.fit(X_train,y_train)\n",
    "y_pred=model.predict(X_test)\n",
    "print(y_pred)"
   ]
  },
  {
   "cell_type": "code",
   "execution_count": 7,
   "id": "a8cdf26a",
   "metadata": {},
   "outputs": [
    {
     "name": "stdout",
     "output_type": "stream",
     "text": [
      "[3.0220372  5.10339747 3.0220372  ... 3.0220372  3.0220372  3.08389383]\n"
     ]
    }
   ],
   "source": [
    "# AdaBoost回归\n",
    "from sklearn.ensemble import AdaBoostRegressor\n",
    "model=AdaBoostRegressor(random_state=123)\n",
    "model.fit(X_train,y_train)\n",
    "y_pred=model.predict(X_test)\n",
    "print(y_pred)"
   ]
  },
  {
   "cell_type": "code",
   "execution_count": 9,
   "id": "1ef89aa1",
   "metadata": {},
   "outputs": [
    {
     "name": "stdout",
     "output_type": "stream",
     "text": [
      "[2.49313515 5.27201183 2.45368705 ... 2.48299122 2.5688597  2.84869646]\n"
     ]
    }
   ],
   "source": [
    "# GBDT回归\n",
    "from sklearn.ensemble import GradientBoostingRegressor\n",
    "model=GradientBoostingRegressor(random_state=123)\n",
    "model.fit(X_train,y_train)\n",
    "y_pred=model.predict(X_test)\n",
    "print(y_pred)"
   ]
  },
  {
   "cell_type": "code",
   "execution_count": 5,
   "id": "e4127b2a",
   "metadata": {},
   "outputs": [
    {
     "name": "stderr",
     "output_type": "stream",
     "text": [
      "WARNING: There was an error checking the latest version of pip.\n"
     ]
    },
    {
     "name": "stdout",
     "output_type": "stream",
     "text": [
      "Requirement already satisfied: xgboost in d:\\py\\lib\\site-packages (1.7.1)\n",
      "Requirement already satisfied: scipy in d:\\py\\lib\\site-packages (from xgboost) (1.9.1)\n",
      "Requirement already satisfied: numpy in d:\\py\\lib\\site-packages (from xgboost) (1.22.4)\n",
      "[2.4559138 5.120841  2.4213917 ... 2.4538283 2.5687966 2.803383 ]\n"
     ]
    }
   ],
   "source": [
    "# XGBoost回归\n",
    "!pip install xgboost \n",
    "from xgboost import XGBRegressor\n",
    "model=XGBRegressor()\n",
    "model.fit(X_train,y_train)\n",
    "y_pred=model.predict(X_test)\n",
    "print(y_pred)"
   ]
  },
  {
   "cell_type": "code",
   "execution_count": 11,
   "id": "5b3931b3",
   "metadata": {},
   "outputs": [
    {
     "name": "stdout",
     "output_type": "stream",
     "text": [
      "[2.39450004 5.43684001 2.43539999 ... 2.46200004 2.57709997 2.86887629]\n"
     ]
    }
   ],
   "source": [
    "# 随机森林回归\n",
    "from sklearn.ensemble import RandomForestRegressor\n",
    "model=RandomForestRegressor(n_estimators=10,random_state=123)\n",
    "model.fit(X_train,y_train)\n",
    "y_pred=model.predict(X_test)\n",
    "print(y_pred)"
   ]
  },
  {
   "cell_type": "code",
   "execution_count": 9,
   "id": "c940a03b",
   "metadata": {},
   "outputs": [
    {
     "name": "stdout",
     "output_type": "stream",
     "text": [
      "[2.45603647 5.24324468 2.4123017  ... 2.45583454 2.57631525 2.79114532]\n"
     ]
    }
   ],
   "source": [
    "# !pip install lightgbm\n",
    "from lightgbm import LGBMRegressor\n",
    "model=LGBMRegressor()\n",
    "model.fit(X_train,y_train)\n",
    "y_pred=model.predict(X_test)\n",
    "print(y_pred)"
   ]
  },
  {
   "cell_type": "code",
   "execution_count": 33,
   "id": "8455f7cd",
   "metadata": {},
   "outputs": [
    {
     "name": "stdout",
     "output_type": "stream",
     "text": [
      "            预测值    实际值\n",
      "0      2.455914  2.390\n",
      "1      5.120841  5.209\n",
      "2      2.421392  2.440\n",
      "3      2.555190  2.530\n",
      "4      5.690684  4.805\n",
      "...         ...    ...\n",
      "12892  5.111351  6.200\n",
      "12893  2.783301  2.906\n",
      "12894  2.453828  2.460\n",
      "12895  2.568797  2.555\n",
      "12896  2.803383  2.904\n",
      "\n",
      "[12897 rows x 2 columns]\n"
     ]
    }
   ],
   "source": [
    "a=pd.DataFrame()\n",
    "a['预测值']=list(y_pred)\n",
    "a['实际值']=list(y_test)\n",
    "print(a)"
   ]
  },
  {
   "cell_type": "code",
   "execution_count": 34,
   "id": "c3fff1e4",
   "metadata": {
    "scrolled": true
   },
   "outputs": [
    {
     "name": "stdout",
     "output_type": "stream",
     "text": [
      "0.9473236459587775\n"
     ]
    }
   ],
   "source": [
    "from sklearn.metrics import explained_variance_score\n",
    "score=explained_variance_score(y_pred,y_test)\n",
    "print(score)"
   ]
  },
  {
   "cell_type": "code",
   "execution_count": 10,
   "id": "4e888976",
   "metadata": {},
   "outputs": [
    {
     "name": "stdout",
     "output_type": "stream",
     "text": [
      "模型得分: 0.9407261952154482\n",
      "Mean Absolute Error: 0.13923028100957116\n",
      "Mean Squared Error: 0.0810893255307031\n",
      "Root Mean Squared Error: 0.28476187513552986\n"
     ]
    }
   ],
   "source": [
    "score = model.score(X_test, y_test)\n",
    "print('模型得分:', score)\n",
    "from sklearn import metrics\n",
    "print('Mean Absolute Error:', metrics.mean_absolute_error(y_test, y_pred))\n",
    "print('Mean Squared Error:', metrics.mean_squared_error(y_test,y_pred))\n",
    "print('Root Mean Squared Error:', np.sqrt(metrics.mean_squared_error(y_test, y_pred)))"
   ]
  },
  {
   "cell_type": "code",
   "execution_count": 17,
   "id": "2b215585",
   "metadata": {},
   "outputs": [
    {
     "data": {
      "image/png": "[encoded data removed]",
      "text/plain": [
       "<Figure size 640x480 with 1 Axes>"
      ]
     },
     "metadata": {},
     "output_type": "display_data"
    }
   ],
   "source": [
    "import matplotlib.pyplot as plt\n",
    "plt.scatter(y_pred,y_test,c='blue',label='function',s=5)\n",
    "# plt.legend()\n",
    "plt.xlabel('y_test')\n",
    "plt.ylabel('y_real')\n",
    "plt.title('Random Forest')\n",
    "plt.savefig('./show.png')\n",
    "plt.show()"
   ]
  },
  {
   "cell_type": "code",
   "execution_count": 37,
   "id": "20d81504",
   "metadata": {},
   "outputs": [
    {
     "name": "stdout",
     "output_type": "stream",
     "text": [
      "0.950163333172654\n"
     ]
    }
   ],
   "source": [
    "y_true = np.array(y_test)\n",
    "y_pred = np.array(y_pred)\n",
    "r2 = 1 - np.sum((y_true - y_pred)**2) / np.sum((y_true - np.mean(y_true))**2)\n",
    "print(r2) # 相关系数"
   ]
  },
  {
   "cell_type": "code",
   "execution_count": null,
   "id": "f6fbc341",
   "metadata": {},
   "outputs": [],
   "source": []
  }
 ],
 "metadata": {
  "kernelspec": {
   "display_name": "Python 3 (ipykernel)",
   "language": "python",
   "name": "python3"
  },
  "language_info": {
   "codemirror_mode": {
    "name": "ipython",
    "version": 3
   },
   "file_extension": ".py",
   "mimetype": "text/x-python",
   "name": "python",
   "nbconvert_exporter": "python",
   "pygments_lexer": "ipython3",
   "version": "3.10.4"
  }
 },
 "nbformat": 4,
 "nbformat_minor": 5
}

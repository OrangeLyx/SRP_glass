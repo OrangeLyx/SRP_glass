{
 "cells": [
  {
   "cell_type": "code",
   "execution_count": 31,
   "id": "e5018c69",
   "metadata": {},
   "outputs": [],
   "source": [
    "import torch\n",
    "import torch.nn as nn\n",
    "import torch.optim as optim\n",
    "from torchvision import datasets,transforms\n",
    "import pandas as pd\n",
    "import numpy as np\n",
    "# torch.__version__=1.13.1"
   ]
  },
  {
   "cell_type": "markdown",
   "id": "05fac05c",
   "metadata": {},
   "source": [
    "1. 数据预处理"
   ]
  },
  {
   "cell_type": "code",
   "execution_count": 32,
   "id": "5748d911",
   "metadata": {},
   "outputs": [],
   "source": [
    "path=\"D:/SRP/raw_data.xlsx\"\n",
    "raw_data=pd.read_excel(path,header=1)\n",
    "col=len(raw_data.columns)\n",
    "density=raw_data['DENSITY']\n",
    "components=raw_data.iloc[:,1:(col-1)]"
   ]
  },
  {
   "cell_type": "code",
   "execution_count": 33,
   "id": "2bade840",
   "metadata": {},
   "outputs": [],
   "source": [
    "# device configuration\n",
    "device=torch.device('cuda' if torch.cuda.is_available() else \"cpu\")"
   ]
  },
  {
   "cell_type": "code",
   "execution_count": 34,
   "id": "32c01d21",
   "metadata": {},
   "outputs": [],
   "source": [
    "components=components.astype(np.float32)\n",
    "X_train=torch.from_numpy(components.values)\n",
    "# 数据归一化后效果可能更好\n",
    "length=len(X_train[0])"
   ]
  },
  {
   "cell_type": "markdown",
   "id": "07253a5b",
   "metadata": {},
   "source": [
    "2. 网络定义"
   ]
  },
  {
   "cell_type": "code",
   "execution_count": 35,
   "id": "39694512",
   "metadata": {},
   "outputs": [],
   "source": [
    "class AutoencoderSRP(nn.Module):\n",
    "    def __init__(self):\n",
    "        super().__init__()\n",
    "        self.encoder=nn.Sequential(\n",
    "        nn.Linear(33,16),nn.ReLU(),\n",
    "        nn.Linear(16,8),nn.ReLU(),\n",
    "        nn.Linear(8,4))\n",
    "        self.decoder=nn.Sequential(\n",
    "        nn.Linear(4,8),nn.ReLU(),\n",
    "        nn.Linear(8,16),nn.ReLU(),\n",
    "        nn.Linear(16,33),nn.ReLU())\n",
    "    \n",
    "    def forward(self,x):\n",
    "        encoded=self.encoder(x)\n",
    "        decoded=self.decoder(encoded)\n",
    "        return decoded"
   ]
  },
  {
   "cell_type": "markdown",
   "id": "c955e71d",
   "metadata": {},
   "source": [
    "3. 参数定义"
   ]
  },
  {
   "cell_type": "code",
   "execution_count": 36,
   "id": "259a987f",
   "metadata": {},
   "outputs": [],
   "source": [
    "model=AutoencoderSRP().to(device)\n",
    "criterion=nn.MSELoss()\n",
    "optimizer=torch.optim.Adam(model.parameters(),lr=1e-3,weight_decay=1e-5)"
   ]
  },
  {
   "cell_type": "markdown",
   "id": "4650f712",
   "metadata": {},
   "source": [
    "4. 训练权重"
   ]
  },
  {
   "cell_type": "code",
   "execution_count": 43,
   "id": "100d08d7",
   "metadata": {},
   "outputs": [
    {
     "name": "stdout",
     "output_type": "stream",
     "text": [
      "Epoch:1/10,Step 6000/64481,Loss:89.5685\n",
      "Epoch:1/10,Step 12000/64481,Loss:140.5355\n",
      "Epoch:1/10,Step 18000/64481,Loss:148.4608\n",
      "Epoch:1/10,Step 24000/64481,Loss:124.7971\n",
      "Epoch:1/10,Step 30000/64481,Loss:108.8388\n",
      "Epoch:1/10,Step 36000/64481,Loss:88.5151\n",
      "Epoch:1/10,Step 42000/64481,Loss:162.4242\n",
      "Epoch:1/10,Step 48000/64481,Loss:99.8938\n",
      "Epoch:1/10,Step 54000/64481,Loss:105.0303\n",
      "Epoch:1/10,Step 60000/64481,Loss:148.5455\n",
      "Epoch:2/10,Step 6000/64481,Loss:89.5989\n",
      "Epoch:2/10,Step 12000/64481,Loss:140.5354\n",
      "Epoch:2/10,Step 18000/64481,Loss:148.4610\n",
      "Epoch:2/10,Step 24000/64481,Loss:124.8198\n",
      "Epoch:2/10,Step 30000/64481,Loss:108.8388\n",
      "Epoch:2/10,Step 36000/64481,Loss:88.5784\n",
      "Epoch:2/10,Step 42000/64481,Loss:162.4545\n",
      "Epoch:2/10,Step 48000/64481,Loss:99.8891\n",
      "Epoch:2/10,Step 54000/64481,Loss:105.1515\n",
      "Epoch:2/10,Step 60000/64481,Loss:148.6363\n",
      "Epoch:3/10,Step 6000/64481,Loss:89.5685\n",
      "Epoch:3/10,Step 12000/64481,Loss:140.5355\n",
      "Epoch:3/10,Step 18000/64481,Loss:148.4913\n",
      "Epoch:3/10,Step 24000/64481,Loss:124.8268\n",
      "Epoch:3/10,Step 30000/64481,Loss:108.8388\n",
      "Epoch:3/10,Step 36000/64481,Loss:88.5757\n",
      "Epoch:3/10,Step 42000/64481,Loss:162.4242\n",
      "Epoch:3/10,Step 48000/64481,Loss:99.9243\n",
      "Epoch:3/10,Step 54000/64481,Loss:108.2087\n",
      "Epoch:3/10,Step 60000/64481,Loss:148.6667\n",
      "Epoch:4/10,Step 6000/64481,Loss:89.6291\n",
      "Epoch:4/10,Step 12000/64481,Loss:140.5658\n",
      "Epoch:4/10,Step 18000/64481,Loss:148.4306\n",
      "Epoch:4/10,Step 24000/64481,Loss:124.8269\n",
      "Epoch:4/10,Step 30000/64481,Loss:108.8388\n",
      "Epoch:4/10,Step 36000/64481,Loss:88.5151\n",
      "Epoch:4/10,Step 42000/64481,Loss:162.5253\n",
      "Epoch:4/10,Step 48000/64481,Loss:100.0152\n",
      "Epoch:4/10,Step 54000/64481,Loss:105.0606\n",
      "Epoch:4/10,Step 60000/64481,Loss:148.5152\n",
      "Epoch:5/10,Step 6000/64481,Loss:89.6291\n",
      "Epoch:5/10,Step 12000/64481,Loss:140.5476\n",
      "Epoch:5/10,Step 18000/64481,Loss:148.4610\n",
      "Epoch:5/10,Step 24000/64481,Loss:124.8545\n",
      "Epoch:5/10,Step 30000/64481,Loss:108.8594\n",
      "Epoch:5/10,Step 36000/64481,Loss:88.5151\n",
      "Epoch:5/10,Step 42000/64481,Loss:162.4242\n",
      "Epoch:5/10,Step 48000/64481,Loss:100.0152\n",
      "Epoch:5/10,Step 54000/64481,Loss:105.0303\n",
      "Epoch:5/10,Step 60000/64481,Loss:148.5152\n",
      "Epoch:6/10,Step 6000/64481,Loss:89.5856\n",
      "Epoch:6/10,Step 12000/64481,Loss:140.5476\n",
      "Epoch:6/10,Step 18000/64481,Loss:148.4610\n",
      "Epoch:6/10,Step 24000/64481,Loss:124.8284\n",
      "Epoch:6/10,Step 30000/64481,Loss:108.8691\n",
      "Epoch:6/10,Step 36000/64481,Loss:88.5454\n",
      "Epoch:6/10,Step 42000/64481,Loss:162.4545\n",
      "Epoch:6/10,Step 48000/64481,Loss:99.9242\n",
      "Epoch:6/10,Step 54000/64481,Loss:108.5758\n",
      "Epoch:6/10,Step 60000/64481,Loss:150.7273\n",
      "Epoch:7/10,Step 6000/64481,Loss:89.5988\n",
      "Epoch:7/10,Step 12000/64481,Loss:140.5658\n",
      "Epoch:7/10,Step 18000/64481,Loss:148.4912\n",
      "Epoch:7/10,Step 24000/64481,Loss:124.8268\n",
      "Epoch:7/10,Step 30000/64481,Loss:108.8388\n",
      "Epoch:7/10,Step 36000/64481,Loss:88.5757\n",
      "Epoch:7/10,Step 42000/64481,Loss:162.4545\n",
      "Epoch:7/10,Step 48000/64481,Loss:99.9242\n",
      "Epoch:7/10,Step 54000/64481,Loss:106.5758\n",
      "Epoch:7/10,Step 60000/64481,Loss:148.5758\n",
      "Epoch:8/10,Step 6000/64481,Loss:90.0049\n",
      "Epoch:8/10,Step 12000/64481,Loss:140.5052\n",
      "Epoch:8/10,Step 18000/64481,Loss:148.4913\n",
      "Epoch:8/10,Step 24000/64481,Loss:124.8268\n",
      "Epoch:8/10,Step 30000/64481,Loss:109.3912\n",
      "Epoch:8/10,Step 36000/64481,Loss:88.5151\n",
      "Epoch:8/10,Step 42000/64481,Loss:162.3940\n",
      "Epoch:8/10,Step 48000/64481,Loss:99.8939\n",
      "Epoch:8/10,Step 54000/64481,Loss:109.4546\n",
      "Epoch:8/10,Step 60000/64481,Loss:148.6667\n",
      "Epoch:9/10,Step 6000/64481,Loss:90.0352\n",
      "Epoch:9/10,Step 12000/64481,Loss:140.5355\n",
      "Epoch:9/10,Step 18000/64481,Loss:148.4306\n",
      "Epoch:9/10,Step 24000/64481,Loss:124.8268\n",
      "Epoch:9/10,Step 30000/64481,Loss:109.4517\n",
      "Epoch:9/10,Step 36000/64481,Loss:88.5454\n",
      "Epoch:9/10,Step 42000/64481,Loss:162.4242\n",
      "Epoch:9/10,Step 48000/64481,Loss:99.8939\n",
      "Epoch:9/10,Step 54000/64481,Loss:108.2121\n",
      "Epoch:9/10,Step 60000/64481,Loss:148.5758\n",
      "Epoch:10/10,Step 6000/64481,Loss:90.6533\n",
      "Epoch:10/10,Step 12000/64481,Loss:140.5779\n",
      "Epoch:10/10,Step 18000/64481,Loss:148.4610\n",
      "Epoch:10/10,Step 24000/64481,Loss:124.8268\n",
      "Epoch:10/10,Step 30000/64481,Loss:109.3912\n",
      "Epoch:10/10,Step 36000/64481,Loss:88.5757\n",
      "Epoch:10/10,Step 42000/64481,Loss:162.4242\n",
      "Epoch:10/10,Step 48000/64481,Loss:99.8939\n",
      "Epoch:10/10,Step 54000/64481,Loss:108.1212\n",
      "Epoch:10/10,Step 60000/64481,Loss:148.4848\n"
     ]
    }
   ],
   "source": [
    "nums_epoch=10\n",
    "n_samples=len(X_train)\n",
    "for epoch in range(nums_epoch):\n",
    "    for i,data in enumerate(X_train):\n",
    "        data=data.reshape(-1,33).to(device)\n",
    "        recall=model(data)\n",
    "        loss=criterion(recall,data)\n",
    "        \n",
    "        optimizer.zero_grad()\n",
    "        loss.backward()\n",
    "        optimizer.step()\n",
    "        \n",
    "        if(i+1)%6000==0:\n",
    "            print(f'Epoch:{epoch+1}/{nums_epoch},Step {i+1}/{n_samples},Loss:{loss.item():.4f}')"
   ]
  },
  {
   "cell_type": "markdown",
   "id": "10365344",
   "metadata": {},
   "source": [
    "5. 保存权重"
   ]
  },
  {
   "cell_type": "code",
   "execution_count": 45,
   "id": "8e9e1615",
   "metadata": {},
   "outputs": [],
   "source": [
    "path='./weights.pth'\n",
    "torch.save(model.state_dict(), path)"
   ]
  },
  {
   "cell_type": "markdown",
   "id": "f20e9991",
   "metadata": {},
   "source": [
    "6. encoder 提取特征"
   ]
  },
  {
   "cell_type": "code",
   "execution_count": 46,
   "id": "c3f1c3b1",
   "metadata": {},
   "outputs": [],
   "source": [
    "class Encoder(nn.Module):\n",
    "    def __init__(self):\n",
    "        super().__init__()\n",
    "        self.encoder=nn.Sequential(\n",
    "        nn.Linear(33,16),nn.ReLU(),\n",
    "        nn.Linear(16,8),nn.ReLU(),\n",
    "        nn.Linear(8,4))\n",
    "    \n",
    "    def forward(self,x):\n",
    "        return self.encoder(x)"
   ]
  },
  {
   "cell_type": "code",
   "execution_count": 47,
   "id": "3558e312",
   "metadata": {},
   "outputs": [
    {
     "data": {
      "text/plain": [
       "<All keys matched successfully>"
      ]
     },
     "execution_count": 47,
     "metadata": {},
     "output_type": "execute_result"
    }
   ],
   "source": [
    "net = Encoder()\n",
    "pretext_model = torch.load('weights.pth')\n",
    "model2_dict = net.state_dict()\n",
    "state_dict = {k:v for k,v in pretext_model.items() if k in model2_dict.keys()}\n",
    "model2_dict.update(state_dict)\n",
    "net.load_state_dict(model2_dict)"
   ]
  },
  {
   "cell_type": "markdown",
   "id": "d5812656",
   "metadata": {},
   "source": [
    "7. 保存特征"
   ]
  },
  {
   "cell_type": "code",
   "execution_count": 51,
   "id": "09ac94f9",
   "metadata": {},
   "outputs": [
    {
     "name": "stdout",
     "output_type": "stream",
     "text": [
      "[[ 198.20093    38.223866 -109.93348    76.85621 ]\n",
      " [ 200.18657   -49.39833  -487.2141     50.556984]\n",
      " [-166.1096    -31.705608 -285.3175   -130.50688 ]\n",
      " ...\n",
      " [-205.89456  -159.81316  -480.51596   -99.856964]\n",
      " [ -92.20791   -27.366047  -23.9021     85.7311  ]\n",
      " [   7.82654   -50.218586  -68.74241   105.18215 ]]\n"
     ]
    },
    {
     "name": "stderr",
     "output_type": "stream",
     "text": [
      "C:\\Users\\pc\\AppData\\Local\\Temp\\ipykernel_3520\\2407620757.py:12: FutureWarning: save is not part of the public API, usage can give unexpected results and will be removed in a future version\n",
      "  writer.save()\n"
     ]
    }
   ],
   "source": [
    "result=[]\n",
    "for data in X_train:\n",
    "    data=data.reshape(-1,33)\n",
    "    refine=net(data)\n",
    "    result.append(refine.detach().numpy()[0])\n",
    "\n",
    "array=np.array(result)\n",
    "# print(array)\n",
    "vector=pd.DataFrame(array)\n",
    "writer=pd.ExcelWriter('./result.xlsx')\n",
    "vector.to_excel(writer, 'sheet_1', float_format='%.4f', header=False, index=True)\n",
    "writer.save()"
   ]
  },
  {
   "cell_type": "markdown",
   "id": "5f6f5f72",
   "metadata": {},
   "source": [
    "### 匹配权重之后可以对四维数组做新的分类或者回归任务"
   ]
  },
  {
   "cell_type": "code",
   "execution_count": null,
   "id": "a78b36fa",
   "metadata": {},
   "outputs": [],
   "source": []
  }
 ],
 "metadata": {
  "kernelspec": {
   "display_name": "Python 3 (ipykernel)",
   "language": "python",
   "name": "python3"
  },
  "language_info": {
   "codemirror_mode": {
    "name": "ipython",
    "version": 3
   },
   "file_extension": ".py",
   "mimetype": "text/x-python",
   "name": "python",
   "nbconvert_exporter": "python",
   "pygments_lexer": "ipython3",
   "version": "3.9.16"
  }
 },
 "nbformat": 4,
 "nbformat_minor": 5
}
